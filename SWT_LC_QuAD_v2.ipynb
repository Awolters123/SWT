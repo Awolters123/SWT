{
  "cells": [
    {
      "cell_type": "code",
      "execution_count": null,
      "metadata": {
        "id": "LBzdWmJ8085Q"
      },
      "outputs": [],
      "source": [
        "!pip install simpletransformers\n",
        "!pip install rouge"
      ]
    },
    {
      "cell_type": "code",
      "execution_count": 2,
      "metadata": {
        "id": "Y4vSUWWT27Ol"
      },
      "outputs": [],
      "source": [
        "import pandas as pd\n",
        "from simpletransformers.t5 import T5Model, T5Args\n",
        "import json\n",
        "import re\n",
        "from rouge import Rouge \n",
        "from nltk.translate.bleu_score import sentence_bleu\n",
        "from sklearn.model_selection import train_test_split\n",
        "import warnings\n",
        "warnings.simplefilter(action='ignore', category=FutureWarning)\n",
        "warnings.simplefilter(action='ignore', category=UserWarning)"
      ]
    },
    {
      "cell_type": "code",
      "source": [
        "# Downloading LC-QuAD v2 from Dropbox link\n",
        "!wget https://www.dropbox.com/s/pygr3g3ansoj043/lcquad_v2.json?dl=0"
      ],
      "metadata": {
        "id": "AKh6fnde0I1n"
      },
      "execution_count": null,
      "outputs": []
    },
    {
      "cell_type": "code",
      "execution_count": 4,
      "metadata": {
        "id": "2DA79WNO239u"
      },
      "outputs": [],
      "source": [
        "def read_json(json_file):\n",
        "    file = json.load(open(json_file))\n",
        "\n",
        "    prefix = []\n",
        "    questions = []\n",
        "    sparql = []\n",
        "\n",
        "    for instance in file:\n",
        "      for k, v in instance.items():\n",
        "        if k == 'paraphrased_question':\n",
        "          prefix.append('generate sparql')\n",
        "          questions.append(v)\n",
        "        elif k == 'sparql_wikidata':\n",
        "          sparql.append(v)\n",
        "    return prefix, questions, sparql"
      ]
    },
    {
      "cell_type": "code",
      "source": [
        "prefix, text, label = read_json('lcquad_v2.json?dl=0')"
      ],
      "metadata": {
        "id": "Y4kBb2RFylyO"
      },
      "execution_count": 5,
      "outputs": []
    },
    {
      "cell_type": "code",
      "source": [
        "input_text = []\n",
        "target_text = []\n",
        "for input, target in zip(text, label):\n",
        "  target_length = target.split(' ')\n",
        "  if len(target_length) < 10:\n",
        "      target = target.replace('{', 'open_bracket').replace('}', ' close_bracket').replace('.', 'sep_dot').replace('?answer', 'var_uri')\n",
        "      target = re.sub(' +', ' ', target)\n",
        "      input_text.append(input)\n",
        "      target_text.append(target)"
      ],
      "metadata": {
        "id": "9Lej8cdWeAyV"
      },
      "execution_count": 6,
      "outputs": []
    },
    {
      "cell_type": "code",
      "execution_count": 7,
      "metadata": {
        "id": "RnLIYPvw4Sov"
      },
      "outputs": [],
      "source": [
        "df = pd.DataFrame()\n",
        "df['prefix'] = prefix[:len(input_text)]\n",
        "df['input_text'] = input_text\n",
        "df['target_text'] = target_text"
      ]
    },
    {
      "cell_type": "code",
      "source": [
        "# Splitting dataframe in train and test set, ratio 90% train, 10% test\n",
        "df_train, df_test = train_test_split(df, test_size=0.1)"
      ],
      "metadata": {
        "id": "Wsi9zJbA3_WW"
      },
      "execution_count": 8,
      "outputs": []
    },
    {
      "cell_type": "code",
      "source": [
        "# Converting dataframes to string values and lowercasing \n",
        "df_train = df_train.astype(str)\n",
        "df_test = df_test.astype(str)\n",
        "df_train['input_text'] = df_train['input_text'].str.lower()\n",
        "df_test['input_text'] = df_test['input_text'].str.lower()\n",
        "df_train['target_text'] = df_train['target_text'].str.lower()\n",
        "df_test['target_text'] = df_test['target_text'].str.lower()"
      ],
      "metadata": {
        "id": "pgkvyH9Q4jyR"
      },
      "execution_count": 9,
      "outputs": []
    },
    {
      "cell_type": "code",
      "source": [
        "for index, row in df_train[:5].iterrows():\n",
        "  print(\"question: {}\\nsparql: {}\\n\".format(row['input_text'], row['target_text']))\n",
        "print(\"Total train size: {}\".format(len(df_train)))"
      ],
      "metadata": {
        "colab": {
          "base_uri": "https://localhost:8080/"
        },
        "id": "Yr2uIjzjAVB2",
        "outputId": "20fab216-6305-479a-a3fd-2623d5b3244d"
      },
      "execution_count": 10,
      "outputs": [
        {
          "output_type": "stream",
          "name": "stdout",
          "text": [
            "question: what is the jufo id of the modern york survey of books?\n",
            "sparql: select distinct var_uri where open_bracket wd:q1426223 wdt:p1277 var_uri close_bracket\n",
            "\n",
            "question: reunion has been given what iso 3166-1 alpha-3 code?\n",
            "sparql: select distinct var_uri where open_bracket wd:q17070 wdt:p298 var_uri close_bracket\n",
            "\n",
            "question: which are the primary help measures of petroleum jelly?\n",
            "sparql: select distinct var_uri where open_bracket var_uri wdt:p2239 wd:q457239 close_bracket\n",
            "\n",
            "question: how many works of art are in l'orfeo?\n",
            "sparql: select distinct var_uri where open_bracket wd:q724008 wdt:p2635 var_uri close_bracket\n",
            "\n",
            "question: what is the central tibetan administrations executive body?\n",
            "sparql: select distinct var_uri where open_bracket var_uri wdt:p208 wd:q326343 close_bracket\n",
            "\n",
            "Total train size: 4089\n"
          ]
        }
      ]
    },
    {
      "cell_type": "code",
      "source": [
        "for index, row in df_test[:5].iterrows():\n",
        "  print(\"question: {}\\nsparql: {}\\n\".format(row['input_text'], row['target_text']))\n",
        "print(\"Total test size: {}\".format(len(df_test)))"
      ],
      "metadata": {
        "colab": {
          "base_uri": "https://localhost:8080/"
        },
        "id": "RVQnTcyndAZF",
        "outputId": "2658543d-2c88-4c6a-9a3f-9f5cc476657c"
      },
      "execution_count": 11,
      "outputs": [
        {
          "output_type": "stream",
          "name": "stdout",
          "text": [
            "question: which is the encyclopædia universalis id of john artist sargent?\n",
            "sparql: select distinct var_uri where open_bracket wd:q155626 wdt:p3219 var_uri close_bracket\n",
            "\n",
            "question: what is the dark knight's kmrb rating?\n",
            "sparql: select distinct var_uri where open_bracket wd:q163872 wdt:p3818 var_uri close_bracket\n",
            "\n",
            "question: which is the d-u-n-s for college of california, berkeley?\n",
            "sparql: select distinct var_uri where open_bracket wd:q168756 wdt:p2771 var_uri close_bracket\n",
            "\n",
            "question: which is daniel schneidermann's canal - u person id?\n",
            "sparql: select distinct var_uri where open_bracket wd:q146749 wdt:p5243 var_uri close_bracket\n",
            "\n",
            "question: the three georges dam is which dam?\n",
            "sparql: select distinct var_uri where open_bracket var_uri wdt:p4792 wd:q12514 close_bracket\n",
            "\n",
            "Total test size: 455\n"
          ]
        }
      ]
    },
    {
      "cell_type": "markdown",
      "source": [
        "#T5-small"
      ],
      "metadata": {
        "id": "FLluo4t5VS3n"
      }
    },
    {
      "cell_type": "code",
      "execution_count": 30,
      "metadata": {
        "id": "XY1f0rZ15BZX"
      },
      "outputs": [],
      "source": [
        "# Specifying model arguments, e.g. learn rate, batch size, epochs\n",
        "model_args = T5Args()\n",
        "model_args.num_train_epochs = 25\n",
        "model_args.overwrite_output_dir = True\n",
        "model_args.learning_rate = 0.001\n",
        "model_args.batch_size = 32\n",
        "\n",
        "model = T5Model(\n",
        "    't5',\n",
        "    't5-small',\n",
        "    args=model_args,\n",
        "    early_stopping=True,\n",
        "    use_cuda=True\n",
        ")"
      ]
    },
    {
      "cell_type": "code",
      "execution_count": null,
      "metadata": {
        "id": "iZ57aZH_7oEu"
      },
      "outputs": [],
      "source": [
        "# Training the model with the specified model arguments\n",
        "model.train_model(df_train)"
      ]
    },
    {
      "cell_type": "code",
      "execution_count": 38,
      "metadata": {
        "id": "aCcbl1-lmjed"
      },
      "outputs": [],
      "source": [
        "# Converting test dataframe to separate X_test and Y_test\n",
        "X_test = df_test['input_text'].tolist()\n",
        "Y_test = df_test['target_text'].tolist()"
      ]
    },
    {
      "cell_type": "code",
      "source": [
        "# Let the trained model predict on test questions\n",
        "predict = model.predict(X_test)"
      ],
      "metadata": {
        "id": "028aHk27pKS9",
        "colab": {
          "base_uri": "https://localhost:8080/",
          "height": 81,
          "referenced_widgets": [
            "ba3865e633ba429d9bc2afae17ac9843",
            "f95e0929c6be404abf9f797411de6f59",
            "b4fd79a784864acc95f530bc7d0699b8",
            "f6a53d4f056a4c0c8452b37f59b73ede",
            "ba2ab26275014ea9be79fddacfe9e9f6",
            "f938cf315c584d709077a14e1da8c2f3",
            "bc86e7b341ba49afb12508404a7c1299",
            "11f2071febfe478bb9937e4925fd1fd1",
            "f20f319ab8af4fe1b967d14478834718",
            "9609c831f5074468921ccb8714d44a98",
            "04be84b280454a99a1fff3009e84c15b",
            "3261b610ac074223bfa84769254fe497",
            "50da19bf95d040fd88075684ab8824d3",
            "e047d7c95e4c4a178d57dbbf0e15f0b4",
            "f5f974410b0a47bb8f3ac104090b24e9",
            "3d404a6d36db4da5af26c71ed20684d3",
            "18b7dc3fb18d4d73943e4275f02a8174",
            "6101a1641f7a4f0d82d839007e9edbbc",
            "c78cc258722d491f96226a81253fd49c",
            "0aed2cb03dba454690c837dcdcd62502",
            "22973766b68949d08c8c7ce34cb2f0a5",
            "99a33afee7ab4b6b928a96acdfec3abe"
          ]
        },
        "outputId": "e44e0ff4-be63-482c-da6a-79b28de93fe8"
      },
      "execution_count": 39,
      "outputs": [
        {
          "output_type": "display_data",
          "data": {
            "text/plain": [
              "Generating outputs:   0%|          | 0/57 [00:00<?, ?it/s]"
            ],
            "application/vnd.jupyter.widget-view+json": {
              "version_major": 2,
              "version_minor": 0,
              "model_id": "ba3865e633ba429d9bc2afae17ac9843"
            }
          },
          "metadata": {}
        },
        {
          "output_type": "display_data",
          "data": {
            "text/plain": [
              "Decoding outputs:   0%|          | 0/455 [00:00<?, ?it/s]"
            ],
            "application/vnd.jupyter.widget-view+json": {
              "version_major": 2,
              "version_minor": 0,
              "model_id": "3261b610ac074223bfa84769254fe497"
            }
          },
          "metadata": {}
        }
      ]
    },
    {
      "cell_type": "code",
      "source": [
        "rouge = Rouge()\n",
        "rouge.get_scores(predict, Y_test, avg=True)"
      ],
      "metadata": {
        "id": "D_HLYio1AdhZ",
        "colab": {
          "base_uri": "https://localhost:8080/"
        },
        "outputId": "da1057f4-eb78-4eaa-d7d5-48e6f70dc954"
      },
      "execution_count": 43,
      "outputs": [
        {
          "output_type": "execute_result",
          "data": {
            "text/plain": [
              "{'rouge-1': {'r': 0.595290423861852,\n",
              "  'p': 0.7945368916797466,\n",
              "  'f': 0.6805322833391653},\n",
              " 'rouge-2': {'r': 0.4800366300366302,\n",
              "  'p': 0.7461538461538509,\n",
              "  'f': 0.5835701979392663},\n",
              " 'rouge-l': {'r': 0.595290423861852,\n",
              "  'p': 0.7945368916797466,\n",
              "  'f': 0.6805322833391653}}"
            ]
          },
          "metadata": {},
          "execution_count": 43
        }
      ]
    },
    {
      "cell_type": "markdown",
      "source": [
        "## ROUGE score if prediction contains empty value"
      ],
      "metadata": {
        "id": "HW9PY9UFwo94"
      }
    },
    {
      "cell_type": "code",
      "source": [
        "count  = 0\n",
        "ROUGEL = []\n",
        "for pred, gold in zip(predict, Y_test):\n",
        "  count += 1\n",
        "  try:\n",
        "    ROUGEL.append(rouge.get_scores(gold, pred))\n",
        "  except ValueError:\n",
        "    pass"
      ],
      "metadata": {
        "id": "P5Ze58E_52sO"
      },
      "execution_count": 41,
      "outputs": []
    },
    {
      "cell_type": "code",
      "source": [
        "rougel_f1 = []\n",
        "for scores in ROUGEL:\n",
        "  for score in scores:\n",
        "    for key, value in score.items():\n",
        "      if key == 'rouge-l':\n",
        "        for k, v in value.items():\n",
        "          if k == 'f':\n",
        "            rougel_f1.append(v)\n",
        "\n",
        "# Printing ROUGEL f1\n",
        "rougel_f1 = sum(rougel_f1) / len(rougel_f1)\n",
        "print(\"ROUGEL f1-score: {}\".format(round(rougel_f1, 4)))"
      ],
      "metadata": {
        "id": "5Z2mOB0xydvG",
        "colab": {
          "base_uri": "https://localhost:8080/"
        },
        "outputId": "ead072c4-7acb-47f3-e682-ae4e1fa0176e"
      },
      "execution_count": 42,
      "outputs": [
        {
          "output_type": "stream",
          "name": "stdout",
          "text": [
            "ROUGEL f1-score: 0.6805\n"
          ]
        }
      ]
    },
    {
      "cell_type": "markdown",
      "source": [
        "## Model prediction on simple questions"
      ],
      "metadata": {
        "id": "6NnLOO4zBFbC"
      }
    },
    {
      "cell_type": "code",
      "source": [
        "questions = [\"what is the population of Groningen?\", \"what is the color of an elephant?\", \"what color is the flag of Groningen?\"]\n",
        "sparql_pred = model.predict(questions)"
      ],
      "metadata": {
        "id": "_i813tebCpfB"
      },
      "execution_count": null,
      "outputs": []
    },
    {
      "cell_type": "code",
      "source": [
        "for sparql, question in zip(sparql_pred, questions):\n",
        "  print(\"question: {}\\tSparql: {}\".format(question, sparql))"
      ],
      "metadata": {
        "colab": {
          "base_uri": "https://localhost:8080/"
        },
        "id": "z6FaHyFVDzZt",
        "outputId": "2501834e-f8d6-45fa-9d7b-35b69e5dbc23"
      },
      "execution_count": 45,
      "outputs": [
        {
          "output_type": "stream",
          "name": "stdout",
          "text": [
            "question: what is the population of Groningen?\tSparql: select distinct var_uri where open_bracket wd:q7991\n",
            "question: what is the color of an elephant?\tSparql: select distinct var_uri where open_bracket wd:q2831\n",
            "question: what color is the flag of Groningen?\tSparql: select distinct var_uri where open_bracket wd:q25662\n"
          ]
        }
      ]
    }
  ],
  "metadata": {
    "accelerator": "GPU",
    "colab": {
      "collapsed_sections": [],
      "provenance": []
    },
    "gpuClass": "standard",
    "kernelspec": {
      "display_name": "Python 3",
      "name": "python3"
    },
    "language_info": {
      "name": "python"
    },
    "widgets": {
      "application/vnd.jupyter.widget-state+json": {
        "ba3865e633ba429d9bc2afae17ac9843": {
          "model_module": "@jupyter-widgets/controls",
          "model_name": "HBoxModel",
          "model_module_version": "1.5.0",
          "state": {
            "_dom_classes": [],
            "_model_module": "@jupyter-widgets/controls",
            "_model_module_version": "1.5.0",
            "_model_name": "HBoxModel",
            "_view_count": null,
            "_view_module": "@jupyter-widgets/controls",
            "_view_module_version": "1.5.0",
            "_view_name": "HBoxView",
            "box_style": "",
            "children": [
              "IPY_MODEL_f95e0929c6be404abf9f797411de6f59",
              "IPY_MODEL_b4fd79a784864acc95f530bc7d0699b8",
              "IPY_MODEL_f6a53d4f056a4c0c8452b37f59b73ede"
            ],
            "layout": "IPY_MODEL_ba2ab26275014ea9be79fddacfe9e9f6"
          }
        },
        "f95e0929c6be404abf9f797411de6f59": {
          "model_module": "@jupyter-widgets/controls",
          "model_name": "HTMLModel",
          "model_module_version": "1.5.0",
          "state": {
            "_dom_classes": [],
            "_model_module": "@jupyter-widgets/controls",
            "_model_module_version": "1.5.0",
            "_model_name": "HTMLModel",
            "_view_count": null,
            "_view_module": "@jupyter-widgets/controls",
            "_view_module_version": "1.5.0",
            "_view_name": "HTMLView",
            "description": "",
            "description_tooltip": null,
            "layout": "IPY_MODEL_f938cf315c584d709077a14e1da8c2f3",
            "placeholder": "​",
            "style": "IPY_MODEL_bc86e7b341ba49afb12508404a7c1299",
            "value": "Generating outputs: 100%"
          }
        },
        "b4fd79a784864acc95f530bc7d0699b8": {
          "model_module": "@jupyter-widgets/controls",
          "model_name": "FloatProgressModel",
          "model_module_version": "1.5.0",
          "state": {
            "_dom_classes": [],
            "_model_module": "@jupyter-widgets/controls",
            "_model_module_version": "1.5.0",
            "_model_name": "FloatProgressModel",
            "_view_count": null,
            "_view_module": "@jupyter-widgets/controls",
            "_view_module_version": "1.5.0",
            "_view_name": "ProgressView",
            "bar_style": "success",
            "description": "",
            "description_tooltip": null,
            "layout": "IPY_MODEL_11f2071febfe478bb9937e4925fd1fd1",
            "max": 57,
            "min": 0,
            "orientation": "horizontal",
            "style": "IPY_MODEL_f20f319ab8af4fe1b967d14478834718",
            "value": 57
          }
        },
        "f6a53d4f056a4c0c8452b37f59b73ede": {
          "model_module": "@jupyter-widgets/controls",
          "model_name": "HTMLModel",
          "model_module_version": "1.5.0",
          "state": {
            "_dom_classes": [],
            "_model_module": "@jupyter-widgets/controls",
            "_model_module_version": "1.5.0",
            "_model_name": "HTMLModel",
            "_view_count": null,
            "_view_module": "@jupyter-widgets/controls",
            "_view_module_version": "1.5.0",
            "_view_name": "HTMLView",
            "description": "",
            "description_tooltip": null,
            "layout": "IPY_MODEL_9609c831f5074468921ccb8714d44a98",
            "placeholder": "​",
            "style": "IPY_MODEL_04be84b280454a99a1fff3009e84c15b",
            "value": " 57/57 [00:14&lt;00:00,  4.72it/s]"
          }
        },
        "ba2ab26275014ea9be79fddacfe9e9f6": {
          "model_module": "@jupyter-widgets/base",
          "model_name": "LayoutModel",
          "model_module_version": "1.2.0",
          "state": {
            "_model_module": "@jupyter-widgets/base",
            "_model_module_version": "1.2.0",
            "_model_name": "LayoutModel",
            "_view_count": null,
            "_view_module": "@jupyter-widgets/base",
            "_view_module_version": "1.2.0",
            "_view_name": "LayoutView",
            "align_content": null,
            "align_items": null,
            "align_self": null,
            "border": null,
            "bottom": null,
            "display": null,
            "flex": null,
            "flex_flow": null,
            "grid_area": null,
            "grid_auto_columns": null,
            "grid_auto_flow": null,
            "grid_auto_rows": null,
            "grid_column": null,
            "grid_gap": null,
            "grid_row": null,
            "grid_template_areas": null,
            "grid_template_columns": null,
            "grid_template_rows": null,
            "height": null,
            "justify_content": null,
            "justify_items": null,
            "left": null,
            "margin": null,
            "max_height": null,
            "max_width": null,
            "min_height": null,
            "min_width": null,
            "object_fit": null,
            "object_position": null,
            "order": null,
            "overflow": null,
            "overflow_x": null,
            "overflow_y": null,
            "padding": null,
            "right": null,
            "top": null,
            "visibility": null,
            "width": null
          }
        },
        "f938cf315c584d709077a14e1da8c2f3": {
          "model_module": "@jupyter-widgets/base",
          "model_name": "LayoutModel",
          "model_module_version": "1.2.0",
          "state": {
            "_model_module": "@jupyter-widgets/base",
            "_model_module_version": "1.2.0",
            "_model_name": "LayoutModel",
            "_view_count": null,
            "_view_module": "@jupyter-widgets/base",
            "_view_module_version": "1.2.0",
            "_view_name": "LayoutView",
            "align_content": null,
            "align_items": null,
            "align_self": null,
            "border": null,
            "bottom": null,
            "display": null,
            "flex": null,
            "flex_flow": null,
            "grid_area": null,
            "grid_auto_columns": null,
            "grid_auto_flow": null,
            "grid_auto_rows": null,
            "grid_column": null,
            "grid_gap": null,
            "grid_row": null,
            "grid_template_areas": null,
            "grid_template_columns": null,
            "grid_template_rows": null,
            "height": null,
            "justify_content": null,
            "justify_items": null,
            "left": null,
            "margin": null,
            "max_height": null,
            "max_width": null,
            "min_height": null,
            "min_width": null,
            "object_fit": null,
            "object_position": null,
            "order": null,
            "overflow": null,
            "overflow_x": null,
            "overflow_y": null,
            "padding": null,
            "right": null,
            "top": null,
            "visibility": null,
            "width": null
          }
        },
        "bc86e7b341ba49afb12508404a7c1299": {
          "model_module": "@jupyter-widgets/controls",
          "model_name": "DescriptionStyleModel",
          "model_module_version": "1.5.0",
          "state": {
            "_model_module": "@jupyter-widgets/controls",
            "_model_module_version": "1.5.0",
            "_model_name": "DescriptionStyleModel",
            "_view_count": null,
            "_view_module": "@jupyter-widgets/base",
            "_view_module_version": "1.2.0",
            "_view_name": "StyleView",
            "description_width": ""
          }
        },
        "11f2071febfe478bb9937e4925fd1fd1": {
          "model_module": "@jupyter-widgets/base",
          "model_name": "LayoutModel",
          "model_module_version": "1.2.0",
          "state": {
            "_model_module": "@jupyter-widgets/base",
            "_model_module_version": "1.2.0",
            "_model_name": "LayoutModel",
            "_view_count": null,
            "_view_module": "@jupyter-widgets/base",
            "_view_module_version": "1.2.0",
            "_view_name": "LayoutView",
            "align_content": null,
            "align_items": null,
            "align_self": null,
            "border": null,
            "bottom": null,
            "display": null,
            "flex": null,
            "flex_flow": null,
            "grid_area": null,
            "grid_auto_columns": null,
            "grid_auto_flow": null,
            "grid_auto_rows": null,
            "grid_column": null,
            "grid_gap": null,
            "grid_row": null,
            "grid_template_areas": null,
            "grid_template_columns": null,
            "grid_template_rows": null,
            "height": null,
            "justify_content": null,
            "justify_items": null,
            "left": null,
            "margin": null,
            "max_height": null,
            "max_width": null,
            "min_height": null,
            "min_width": null,
            "object_fit": null,
            "object_position": null,
            "order": null,
            "overflow": null,
            "overflow_x": null,
            "overflow_y": null,
            "padding": null,
            "right": null,
            "top": null,
            "visibility": null,
            "width": null
          }
        },
        "f20f319ab8af4fe1b967d14478834718": {
          "model_module": "@jupyter-widgets/controls",
          "model_name": "ProgressStyleModel",
          "model_module_version": "1.5.0",
          "state": {
            "_model_module": "@jupyter-widgets/controls",
            "_model_module_version": "1.5.0",
            "_model_name": "ProgressStyleModel",
            "_view_count": null,
            "_view_module": "@jupyter-widgets/base",
            "_view_module_version": "1.2.0",
            "_view_name": "StyleView",
            "bar_color": null,
            "description_width": ""
          }
        },
        "9609c831f5074468921ccb8714d44a98": {
          "model_module": "@jupyter-widgets/base",
          "model_name": "LayoutModel",
          "model_module_version": "1.2.0",
          "state": {
            "_model_module": "@jupyter-widgets/base",
            "_model_module_version": "1.2.0",
            "_model_name": "LayoutModel",
            "_view_count": null,
            "_view_module": "@jupyter-widgets/base",
            "_view_module_version": "1.2.0",
            "_view_name": "LayoutView",
            "align_content": null,
            "align_items": null,
            "align_self": null,
            "border": null,
            "bottom": null,
            "display": null,
            "flex": null,
            "flex_flow": null,
            "grid_area": null,
            "grid_auto_columns": null,
            "grid_auto_flow": null,
            "grid_auto_rows": null,
            "grid_column": null,
            "grid_gap": null,
            "grid_row": null,
            "grid_template_areas": null,
            "grid_template_columns": null,
            "grid_template_rows": null,
            "height": null,
            "justify_content": null,
            "justify_items": null,
            "left": null,
            "margin": null,
            "max_height": null,
            "max_width": null,
            "min_height": null,
            "min_width": null,
            "object_fit": null,
            "object_position": null,
            "order": null,
            "overflow": null,
            "overflow_x": null,
            "overflow_y": null,
            "padding": null,
            "right": null,
            "top": null,
            "visibility": null,
            "width": null
          }
        },
        "04be84b280454a99a1fff3009e84c15b": {
          "model_module": "@jupyter-widgets/controls",
          "model_name": "DescriptionStyleModel",
          "model_module_version": "1.5.0",
          "state": {
            "_model_module": "@jupyter-widgets/controls",
            "_model_module_version": "1.5.0",
            "_model_name": "DescriptionStyleModel",
            "_view_count": null,
            "_view_module": "@jupyter-widgets/base",
            "_view_module_version": "1.2.0",
            "_view_name": "StyleView",
            "description_width": ""
          }
        },
        "3261b610ac074223bfa84769254fe497": {
          "model_module": "@jupyter-widgets/controls",
          "model_name": "HBoxModel",
          "model_module_version": "1.5.0",
          "state": {
            "_dom_classes": [],
            "_model_module": "@jupyter-widgets/controls",
            "_model_module_version": "1.5.0",
            "_model_name": "HBoxModel",
            "_view_count": null,
            "_view_module": "@jupyter-widgets/controls",
            "_view_module_version": "1.5.0",
            "_view_name": "HBoxView",
            "box_style": "",
            "children": [
              "IPY_MODEL_50da19bf95d040fd88075684ab8824d3",
              "IPY_MODEL_e047d7c95e4c4a178d57dbbf0e15f0b4",
              "IPY_MODEL_f5f974410b0a47bb8f3ac104090b24e9"
            ],
            "layout": "IPY_MODEL_3d404a6d36db4da5af26c71ed20684d3"
          }
        },
        "50da19bf95d040fd88075684ab8824d3": {
          "model_module": "@jupyter-widgets/controls",
          "model_name": "HTMLModel",
          "model_module_version": "1.5.0",
          "state": {
            "_dom_classes": [],
            "_model_module": "@jupyter-widgets/controls",
            "_model_module_version": "1.5.0",
            "_model_name": "HTMLModel",
            "_view_count": null,
            "_view_module": "@jupyter-widgets/controls",
            "_view_module_version": "1.5.0",
            "_view_name": "HTMLView",
            "description": "",
            "description_tooltip": null,
            "layout": "IPY_MODEL_18b7dc3fb18d4d73943e4275f02a8174",
            "placeholder": "​",
            "style": "IPY_MODEL_6101a1641f7a4f0d82d839007e9edbbc",
            "value": "Decoding outputs: 100%"
          }
        },
        "e047d7c95e4c4a178d57dbbf0e15f0b4": {
          "model_module": "@jupyter-widgets/controls",
          "model_name": "FloatProgressModel",
          "model_module_version": "1.5.0",
          "state": {
            "_dom_classes": [],
            "_model_module": "@jupyter-widgets/controls",
            "_model_module_version": "1.5.0",
            "_model_name": "FloatProgressModel",
            "_view_count": null,
            "_view_module": "@jupyter-widgets/controls",
            "_view_module_version": "1.5.0",
            "_view_name": "ProgressView",
            "bar_style": "success",
            "description": "",
            "description_tooltip": null,
            "layout": "IPY_MODEL_c78cc258722d491f96226a81253fd49c",
            "max": 455,
            "min": 0,
            "orientation": "horizontal",
            "style": "IPY_MODEL_0aed2cb03dba454690c837dcdcd62502",
            "value": 455
          }
        },
        "f5f974410b0a47bb8f3ac104090b24e9": {
          "model_module": "@jupyter-widgets/controls",
          "model_name": "HTMLModel",
          "model_module_version": "1.5.0",
          "state": {
            "_dom_classes": [],
            "_model_module": "@jupyter-widgets/controls",
            "_model_module_version": "1.5.0",
            "_model_name": "HTMLModel",
            "_view_count": null,
            "_view_module": "@jupyter-widgets/controls",
            "_view_module_version": "1.5.0",
            "_view_name": "HTMLView",
            "description": "",
            "description_tooltip": null,
            "layout": "IPY_MODEL_22973766b68949d08c8c7ce34cb2f0a5",
            "placeholder": "​",
            "style": "IPY_MODEL_99a33afee7ab4b6b928a96acdfec3abe",
            "value": " 455/455 [00:05&lt;00:00,  5.18s/it]"
          }
        },
        "3d404a6d36db4da5af26c71ed20684d3": {
          "model_module": "@jupyter-widgets/base",
          "model_name": "LayoutModel",
          "model_module_version": "1.2.0",
          "state": {
            "_model_module": "@jupyter-widgets/base",
            "_model_module_version": "1.2.0",
            "_model_name": "LayoutModel",
            "_view_count": null,
            "_view_module": "@jupyter-widgets/base",
            "_view_module_version": "1.2.0",
            "_view_name": "LayoutView",
            "align_content": null,
            "align_items": null,
            "align_self": null,
            "border": null,
            "bottom": null,
            "display": null,
            "flex": null,
            "flex_flow": null,
            "grid_area": null,
            "grid_auto_columns": null,
            "grid_auto_flow": null,
            "grid_auto_rows": null,
            "grid_column": null,
            "grid_gap": null,
            "grid_row": null,
            "grid_template_areas": null,
            "grid_template_columns": null,
            "grid_template_rows": null,
            "height": null,
            "justify_content": null,
            "justify_items": null,
            "left": null,
            "margin": null,
            "max_height": null,
            "max_width": null,
            "min_height": null,
            "min_width": null,
            "object_fit": null,
            "object_position": null,
            "order": null,
            "overflow": null,
            "overflow_x": null,
            "overflow_y": null,
            "padding": null,
            "right": null,
            "top": null,
            "visibility": null,
            "width": null
          }
        },
        "18b7dc3fb18d4d73943e4275f02a8174": {
          "model_module": "@jupyter-widgets/base",
          "model_name": "LayoutModel",
          "model_module_version": "1.2.0",
          "state": {
            "_model_module": "@jupyter-widgets/base",
            "_model_module_version": "1.2.0",
            "_model_name": "LayoutModel",
            "_view_count": null,
            "_view_module": "@jupyter-widgets/base",
            "_view_module_version": "1.2.0",
            "_view_name": "LayoutView",
            "align_content": null,
            "align_items": null,
            "align_self": null,
            "border": null,
            "bottom": null,
            "display": null,
            "flex": null,
            "flex_flow": null,
            "grid_area": null,
            "grid_auto_columns": null,
            "grid_auto_flow": null,
            "grid_auto_rows": null,
            "grid_column": null,
            "grid_gap": null,
            "grid_row": null,
            "grid_template_areas": null,
            "grid_template_columns": null,
            "grid_template_rows": null,
            "height": null,
            "justify_content": null,
            "justify_items": null,
            "left": null,
            "margin": null,
            "max_height": null,
            "max_width": null,
            "min_height": null,
            "min_width": null,
            "object_fit": null,
            "object_position": null,
            "order": null,
            "overflow": null,
            "overflow_x": null,
            "overflow_y": null,
            "padding": null,
            "right": null,
            "top": null,
            "visibility": null,
            "width": null
          }
        },
        "6101a1641f7a4f0d82d839007e9edbbc": {
          "model_module": "@jupyter-widgets/controls",
          "model_name": "DescriptionStyleModel",
          "model_module_version": "1.5.0",
          "state": {
            "_model_module": "@jupyter-widgets/controls",
            "_model_module_version": "1.5.0",
            "_model_name": "DescriptionStyleModel",
            "_view_count": null,
            "_view_module": "@jupyter-widgets/base",
            "_view_module_version": "1.2.0",
            "_view_name": "StyleView",
            "description_width": ""
          }
        },
        "c78cc258722d491f96226a81253fd49c": {
          "model_module": "@jupyter-widgets/base",
          "model_name": "LayoutModel",
          "model_module_version": "1.2.0",
          "state": {
            "_model_module": "@jupyter-widgets/base",
            "_model_module_version": "1.2.0",
            "_model_name": "LayoutModel",
            "_view_count": null,
            "_view_module": "@jupyter-widgets/base",
            "_view_module_version": "1.2.0",
            "_view_name": "LayoutView",
            "align_content": null,
            "align_items": null,
            "align_self": null,
            "border": null,
            "bottom": null,
            "display": null,
            "flex": null,
            "flex_flow": null,
            "grid_area": null,
            "grid_auto_columns": null,
            "grid_auto_flow": null,
            "grid_auto_rows": null,
            "grid_column": null,
            "grid_gap": null,
            "grid_row": null,
            "grid_template_areas": null,
            "grid_template_columns": null,
            "grid_template_rows": null,
            "height": null,
            "justify_content": null,
            "justify_items": null,
            "left": null,
            "margin": null,
            "max_height": null,
            "max_width": null,
            "min_height": null,
            "min_width": null,
            "object_fit": null,
            "object_position": null,
            "order": null,
            "overflow": null,
            "overflow_x": null,
            "overflow_y": null,
            "padding": null,
            "right": null,
            "top": null,
            "visibility": null,
            "width": null
          }
        },
        "0aed2cb03dba454690c837dcdcd62502": {
          "model_module": "@jupyter-widgets/controls",
          "model_name": "ProgressStyleModel",
          "model_module_version": "1.5.0",
          "state": {
            "_model_module": "@jupyter-widgets/controls",
            "_model_module_version": "1.5.0",
            "_model_name": "ProgressStyleModel",
            "_view_count": null,
            "_view_module": "@jupyter-widgets/base",
            "_view_module_version": "1.2.0",
            "_view_name": "StyleView",
            "bar_color": null,
            "description_width": ""
          }
        },
        "22973766b68949d08c8c7ce34cb2f0a5": {
          "model_module": "@jupyter-widgets/base",
          "model_name": "LayoutModel",
          "model_module_version": "1.2.0",
          "state": {
            "_model_module": "@jupyter-widgets/base",
            "_model_module_version": "1.2.0",
            "_model_name": "LayoutModel",
            "_view_count": null,
            "_view_module": "@jupyter-widgets/base",
            "_view_module_version": "1.2.0",
            "_view_name": "LayoutView",
            "align_content": null,
            "align_items": null,
            "align_self": null,
            "border": null,
            "bottom": null,
            "display": null,
            "flex": null,
            "flex_flow": null,
            "grid_area": null,
            "grid_auto_columns": null,
            "grid_auto_flow": null,
            "grid_auto_rows": null,
            "grid_column": null,
            "grid_gap": null,
            "grid_row": null,
            "grid_template_areas": null,
            "grid_template_columns": null,
            "grid_template_rows": null,
            "height": null,
            "justify_content": null,
            "justify_items": null,
            "left": null,
            "margin": null,
            "max_height": null,
            "max_width": null,
            "min_height": null,
            "min_width": null,
            "object_fit": null,
            "object_position": null,
            "order": null,
            "overflow": null,
            "overflow_x": null,
            "overflow_y": null,
            "padding": null,
            "right": null,
            "top": null,
            "visibility": null,
            "width": null
          }
        },
        "99a33afee7ab4b6b928a96acdfec3abe": {
          "model_module": "@jupyter-widgets/controls",
          "model_name": "DescriptionStyleModel",
          "model_module_version": "1.5.0",
          "state": {
            "_model_module": "@jupyter-widgets/controls",
            "_model_module_version": "1.5.0",
            "_model_name": "DescriptionStyleModel",
            "_view_count": null,
            "_view_module": "@jupyter-widgets/base",
            "_view_module_version": "1.2.0",
            "_view_name": "StyleView",
            "description_width": ""
          }
        }
      }
    }
  },
  "nbformat": 4,
  "nbformat_minor": 0
}