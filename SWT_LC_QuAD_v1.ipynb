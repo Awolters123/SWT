{
  "cells": [
    {
      "cell_type": "code",
      "execution_count": null,
      "metadata": {
        "id": "luxD97GUqKnq"
      },
      "outputs": [],
      "source": [
        "!pip install simpletransformers\n",
        "!pip install rouge"
      ]
    },
    {
      "cell_type": "code",
      "execution_count": 2,
      "metadata": {
        "id": "4n-8RaZvqNHU"
      },
      "outputs": [],
      "source": [
        "import pandas as pd\n",
        "from simpletransformers.t5 import T5Model, T5Args\n",
        "import json\n",
        "import re\n",
        "from rouge import Rouge \n",
        "from nltk.translate.bleu_score import sentence_bleu\n",
        "from sklearn.model_selection import train_test_split\n",
        "import warnings\n",
        "warnings.simplefilter(action='ignore', category=FutureWarning)\n",
        "warnings.simplefilter(action='ignore', category=UserWarning)"
      ]
    },
    {
      "cell_type": "code",
      "execution_count": 3,
      "metadata": {
        "id": "C2N7bw_7qPbg"
      },
      "outputs": [],
      "source": [
        "def read_json(json_file):\n",
        "    file = json.load(open(json_file))\n",
        "\n",
        "    prefix = []\n",
        "    questions = []\n",
        "    sparql = []\n",
        "\n",
        "    for instance in file:\n",
        "      for k, v in instance.items():\n",
        "        if k == 'corrected_question':\n",
        "          prefix.append('generate_sparql')\n",
        "          questions.append(v)\n",
        "        elif k == 'sparql_query':\n",
        "          sparql.append(v)\n",
        "    return prefix, questions, sparql"
      ]
    },
    {
      "cell_type": "code",
      "execution_count": 4,
      "metadata": {
        "id": "9lSU91SSqPfn"
      },
      "outputs": [],
      "source": [
        "def convert_sparql(sparql):\n",
        "  sent = \"\"\n",
        "  labels = []\n",
        "  for n in sparql:\n",
        "    n = n.lower()\n",
        "    n = n.replace('?uri.', '?uri .').replace('?uri}', '?uri }').replace('{?uri', '{ ?uri').replace('count(?uri)', 'count ( ?uri )')\n",
        "    n = n.split(' ')\n",
        "    for word in n:\n",
        "        if word.startswith(\"<\"):\n",
        "            if \"resource\" in word:\n",
        "                word = word.split('/')\n",
        "                dbr = '<dbr_' + word[4]\n",
        "                sent += dbr + ' '\n",
        "\n",
        "            elif \"property\" in word:\n",
        "                word = word.split('/')\n",
        "                dbp = '<dbp_' + word[4]\n",
        "                sent += dbp + ' '\n",
        "\n",
        "            elif \"ontology\" in word:\n",
        "                word = word.split('/')\n",
        "                dbo = '<dbo_' + word[4]\n",
        "                sent += dbo + ' '\n",
        "        elif word == '{':\n",
        "            sent += 'bracket_open '\n",
        "        elif word == '}':\n",
        "            sent += 'bracket_close'\n",
        "        elif word == '?uri':\n",
        "            sent += 'var_uri '\n",
        "        elif word == '?x':\n",
        "            sent += 'var_x '\n",
        "        elif word == '.':\n",
        "            sent += 'sep_dot '\n",
        "        elif word == '(':\n",
        "            sent += 'attr_open '\n",
        "        elif word == ')':\n",
        "            sent += 'attr_close '\n",
        "        else:\n",
        "            sent += word + ' '\n",
        "    sent = re.sub(' +', ' ', sent)\n",
        "    labels.append(sent)\n",
        "    sent = \"\"\n",
        "  return labels"
      ]
    },
    {
      "cell_type": "code",
      "execution_count": 5,
      "metadata": {
        "id": "yhSHkKlerm82"
      },
      "outputs": [],
      "source": [
        "def create_df(json_file):\n",
        "    prefix, questions, sparql = read_json(json_file)\n",
        "    labels = convert_sparql(sparql)\n",
        "\n",
        "    input_text = []\n",
        "    target_text = []\n",
        "    for text, label in zip(questions, labels):\n",
        "      label = label.rstrip()\n",
        "      if label[-1] != '}':\n",
        "        target_text.append(label)\n",
        "        input_text.append(text)\n",
        "\n",
        "    df = pd.DataFrame()\n",
        "    df['prefix'] = prefix[:len(input_text)]\n",
        "    df['input_text'] = input_text\n",
        "    df['input_text'] = df['input_text'].str.lower()\n",
        "    df['target_text'] = target_text\n",
        "\n",
        "    return df, sparql"
      ]
    },
    {
      "cell_type": "code",
      "execution_count": null,
      "metadata": {
        "id": "OUceJlCW40JG"
      },
      "outputs": [],
      "source": [
        "!wget https://www.dropbox.com/s/j5di3g5jm3e72p8/train-data.json?dl=0\n",
        "!wget https://www.dropbox.com/s/8kil1x0pkf6c40p/test-data.json?dl=0"
      ]
    },
    {
      "cell_type": "code",
      "execution_count": 7,
      "metadata": {
        "id": "S_5twJus2V0Q"
      },
      "outputs": [],
      "source": [
        "df1, sparql_train = create_df('train-data.json?dl=0')\n",
        "df2, sparql_test = create_df('test-data.json?dl=0')\n",
        "df = df1.append(df2, ignore_index=True)"
      ]
    },
    {
      "cell_type": "code",
      "execution_count": 8,
      "metadata": {
        "id": "pIVIxqjB83FW"
      },
      "outputs": [],
      "source": [
        "df_train, df_test = train_test_split(df, test_size=0.1)"
      ]
    },
    {
      "cell_type": "code",
      "execution_count": 9,
      "metadata": {
        "colab": {
          "base_uri": "https://localhost:8080/"
        },
        "id": "A_kVQszO4gPD",
        "outputId": "3865c3c3-be35-42ac-a7a9-2763d4754e38"
      },
      "outputs": [
        {
          "output_type": "stream",
          "name": "stdout",
          "text": [
            "question: which producer of  the eristoff is also the  distributor of  bombay sapphire?\n",
            "sparql:  select distinct var_uri where bracket_open <dbr_eristoff> <dbp_manufacturer> var_uri sep_dot <dbr_bombay_sapphire> <dbp_distributor> var_uri bracket_close\n",
            "\n",
            "question: who has been married to both penny lancaster and alana stewart?\n",
            "sparql: select distinct var_uri where bracket_open <dbr_penny_lancaster> <dbo_spouse> var_uri sep_dot <dbr_alana_stewart> <dbo_spouse> var_uri sep_dot bracket_close\n",
            "\n",
            "question: which city's governing body is led by bruce harrell?\n",
            "sparql: select distinct var_uri where bracket_open var_x <dbo_leader> <dbr_bruce_harrell> sep_dot var_uri <dbp_governingbody> var_x sep_dot bracket_close\n",
            "\n",
            "question: whose children died in north bend, ohio?\n",
            "sparql: select distinct var_uri where bracket_open var_x <dbo_deathplace> <dbr_north_bend,_ohio> sep_dot var_uri <dbo_child> var_x sep_dot bracket_close\n",
            "\n",
            "question: to which nation did david animle hanses owe his allegiance?\n",
            "sparql:  select distinct var_uri where bracket_open <dbr_david_animle_hansen> <dbp_allegiance> var_uri bracket_close\n",
            "\n"
          ]
        }
      ],
      "source": [
        "for index, row in df_train[:5].iterrows():\n",
        "  print(\"question: {}\\nsparql: {}\\n\".format(row['input_text'], row['target_text']))"
      ]
    },
    {
      "cell_type": "code",
      "execution_count": 10,
      "metadata": {
        "colab": {
          "base_uri": "https://localhost:8080/"
        },
        "id": "oPRm8jST4hYj",
        "outputId": "4f415971-a181-42a8-e3a7-ab810141248c"
      },
      "outputs": [
        {
          "output_type": "stream",
          "name": "stdout",
          "text": [
            "question: what is the academic discipline of the journal of cerebral blood flow & metabolism and also an ingredient of the ragout fin ?\n",
            "sparql:  select distinct var_uri where bracket_open <dbr_journal_of_cerebral_blood_flow_&_metabolism> <dbo_academicdiscipline> var_uri sep_dot <dbr_ragout_fin> <dbo_ingredient> var_uri bracket_close\n",
            "\n",
            "question: what are the regions in which the distributor of secrets and lies serves ? \n",
            "sparql: select distinct var_uri where bracket_open <dbr_secrets_and_lies_(u.s._tv_series)> <dbo_distributor> var_x sep_dot var_x <dbo_regionserved> var_uri sep_dot bracket_close\n",
            "\n",
            "question: which relative of george madison is the appointer of john drayton ?\n",
            "sparql:  select distinct var_uri where bracket_open <dbr_john_drayton> <dbp_appointer> var_uri sep_dot <dbr_george_madison> <dbo_relation> var_uri bracket_close\n",
            "\n",
            "question: which things have been located, where governance is houston city council?\n",
            "sparql: select distinct var_uri where bracket_open var_x <dbp_governingbody> <dbr_houston_city_council> sep_dot var_uri <dbo_location> var_x sep_dot bracket_close\n",
            "\n",
            "question: what is the mascot of the military unit of david prowse?\n",
            "sparql: select distinct var_uri where bracket_open <dbr_david_prowse_(politician)> <dbp_branch> var_x sep_dot var_x <dbp_mascot> var_uri sep_dot bracket_close\n",
            "\n"
          ]
        }
      ],
      "source": [
        "for index, row in df_test[:5].iterrows():\n",
        "  print(\"question: {}\\nsparql: {}\\n\".format(row['input_text'], row['target_text']))"
      ]
    },
    {
      "cell_type": "code",
      "execution_count": null,
      "metadata": {
        "id": "vL8z_Ima4Lix"
      },
      "outputs": [],
      "source": [
        "# Specifying model arguments, e.g. learn rate, batch size, epochs\n",
        "model_args = T5Args()\n",
        "model_args.num_train_epochs = 25\n",
        "model_args.overwrite_output_dir = True\n",
        "model_args.learning_rate = 0.001\n",
        "model_args.batch_size = 32\n",
        "\n",
        "model = T5Model(\n",
        "    't5',\n",
        "    't5-small',\n",
        "    args=model_args,\n",
        "    early_stopping=True,\n",
        "    use_cuda=True\n",
        ")"
      ]
    },
    {
      "cell_type": "code",
      "execution_count": null,
      "metadata": {
        "id": "yLLsLVtB4PcO"
      },
      "outputs": [],
      "source": [
        "# Training the model with the specified model arguments\n",
        "model.train_model(df_train)"
      ]
    },
    {
      "cell_type": "code",
      "execution_count": 13,
      "metadata": {
        "id": "eTn4OQ9552cf"
      },
      "outputs": [],
      "source": [
        "# Converting test dataframe to separate X_test and Y_test\n",
        "X_test = df_test['input_text'].tolist()\n",
        "Y_test = df_test['target_text'].tolist()"
      ]
    },
    {
      "cell_type": "code",
      "execution_count": 14,
      "metadata": {
        "colab": {
          "base_uri": "https://localhost:8080/",
          "height": 81,
          "referenced_widgets": [
            "b52f4a7356b74f858f8bbbe4d2a6afda",
            "0efc225ee6964dc49150d0e4291a66af",
            "21a8e5f7b9e643b898f72880a879e7be",
            "58833c269f0242ebb7f0a0dd04f04c9b",
            "ced01f908b834e7980b9fe8f1345223d",
            "d985195a57c24888b2d4d8c48026813b",
            "03e29ff68eba4afc962a8d757ff26e2a",
            "1ab1a7a2a8d946f4ad47c0e0d99c7cdc",
            "a104edf2328a44f9a4905975cb8e53d7",
            "643a9ee8ced44625bfd05d86ae578c49",
            "f8c5ebf663fd498b9ac726e9fc6720ec",
            "2a9085766db044d182670b29f24ddf97",
            "92deb534d26844ac941a7a6c215066ec",
            "70a1e5ae758d4a5da91b79192e626b38",
            "0f4ca1ee17ad4ee9a0555f82421f15d2",
            "b085b92ba34b4772bebd7b23403a374d",
            "0a536b0e4b844a09ad72bb48817798ca",
            "0291419a1dcb4000a1ccaa8d9ee415b7",
            "6a5c66eee7544c76ab78adf02096367d",
            "7787a0fb386440c9b9bb2d6dd5bf5ca5",
            "99f5e26ed4aa4094befde0253c79b70e",
            "880699195ef740f48c890f40a7d44d30"
          ]
        },
        "id": "Cfg9M4p_53SY",
        "outputId": "39d2a1c8-e809-4e0a-a2d6-3197b6830d1b"
      },
      "outputs": [
        {
          "output_type": "display_data",
          "data": {
            "text/plain": [
              "Generating outputs:   0%|          | 0/39 [00:00<?, ?it/s]"
            ],
            "application/vnd.jupyter.widget-view+json": {
              "version_major": 2,
              "version_minor": 0,
              "model_id": "b52f4a7356b74f858f8bbbe4d2a6afda"
            }
          },
          "metadata": {}
        },
        {
          "output_type": "display_data",
          "data": {
            "text/plain": [
              "Decoding outputs:   0%|          | 0/308 [00:00<?, ?it/s]"
            ],
            "application/vnd.jupyter.widget-view+json": {
              "version_major": 2,
              "version_minor": 0,
              "model_id": "2a9085766db044d182670b29f24ddf97"
            }
          },
          "metadata": {}
        }
      ],
      "source": [
        "# Let the trained model predict on test questions\n",
        "predict = model.predict(X_test)"
      ]
    },
    {
      "cell_type": "code",
      "execution_count": 15,
      "metadata": {
        "colab": {
          "base_uri": "https://localhost:8080/"
        },
        "id": "-6h6zKS8N4R3",
        "outputId": "5133e1ed-b11d-4793-846b-458c80c3bace"
      },
      "outputs": [
        {
          "output_type": "execute_result",
          "data": {
            "text/plain": [
              "{'rouge-1': {'r': 0.5137132798658773,\n",
              "  'p': 0.8111742424242453,\n",
              "  'f': 0.6255455510168814},\n",
              " 'rouge-2': {'r': 0.38910163503841866,\n",
              "  'p': 0.7673082869511468,\n",
              "  'f': 0.5112829782892215},\n",
              " 'rouge-l': {'r': 0.5134427170953146,\n",
              "  'p': 0.8107104205318519,\n",
              "  'f': 0.6252037875172232}}"
            ]
          },
          "metadata": {},
          "execution_count": 15
        }
      ],
      "source": [
        "rouge = Rouge()\n",
        "rouge.get_scores(predict, Y_test, avg=True)"
      ]
    },
    {
      "cell_type": "markdown",
      "source": [
        "## Model prediction on simple questions"
      ],
      "metadata": {
        "id": "QvOHSwP4gCKs"
      }
    },
    {
      "cell_type": "code",
      "source": [
        "questions = [\"what is the population of Groningen?\", \"what is the color of an elephant?\", \"what color is the flag of Groningen?\"]\n",
        "sparql_pred = model.predict(questions)"
      ],
      "metadata": {
        "id": "i1ZTo7Jjhcj3"
      },
      "execution_count": null,
      "outputs": []
    },
    {
      "cell_type": "code",
      "source": [
        "for sparql, question in zip(sparql_pred, questions):\n",
        "  print(\"question: {}\\tSparql: {}\".format(question, sparql))"
      ],
      "metadata": {
        "colab": {
          "base_uri": "https://localhost:8080/"
        },
        "id": "rnRARfDfhcrt",
        "outputId": "b6aa8e9a-3199-496c-dbbb-5972f6bc25aa"
      },
      "execution_count": 17,
      "outputs": [
        {
          "output_type": "stream",
          "name": "stdout",
          "text": [
            "question: what is the population of Groningen?\tSparql: select distinct var_uri where bracket_open dbr_groning\n",
            "question: what is the color of an elephant?\tSparql: select distinct var_uri where bracket_open dbr_an_ele\n",
            "question: what color is the flag of Groningen?\tSparql: select distinct var_uri where bracket_open dbr_groning\n"
          ]
        }
      ]
    }
  ],
  "metadata": {
    "accelerator": "GPU",
    "colab": {
      "collapsed_sections": [],
      "provenance": []
    },
    "gpuClass": "standard",
    "kernelspec": {
      "display_name": "Python 3 (ipykernel)",
      "language": "python",
      "name": "python3"
    },
    "language_info": {
      "codemirror_mode": {
        "name": "ipython",
        "version": 3
      },
      "file_extension": ".py",
      "mimetype": "text/x-python",
      "name": "python",
      "nbconvert_exporter": "python",
      "pygments_lexer": "ipython3",
      "version": "3.10.7"
    },
    "widgets": {
      "application/vnd.jupyter.widget-state+json": {
        "b52f4a7356b74f858f8bbbe4d2a6afda": {
          "model_module": "@jupyter-widgets/controls",
          "model_name": "HBoxModel",
          "model_module_version": "1.5.0",
          "state": {
            "_dom_classes": [],
            "_model_module": "@jupyter-widgets/controls",
            "_model_module_version": "1.5.0",
            "_model_name": "HBoxModel",
            "_view_count": null,
            "_view_module": "@jupyter-widgets/controls",
            "_view_module_version": "1.5.0",
            "_view_name": "HBoxView",
            "box_style": "",
            "children": [
              "IPY_MODEL_0efc225ee6964dc49150d0e4291a66af",
              "IPY_MODEL_21a8e5f7b9e643b898f72880a879e7be",
              "IPY_MODEL_58833c269f0242ebb7f0a0dd04f04c9b"
            ],
            "layout": "IPY_MODEL_ced01f908b834e7980b9fe8f1345223d"
          }
        },
        "0efc225ee6964dc49150d0e4291a66af": {
          "model_module": "@jupyter-widgets/controls",
          "model_name": "HTMLModel",
          "model_module_version": "1.5.0",
          "state": {
            "_dom_classes": [],
            "_model_module": "@jupyter-widgets/controls",
            "_model_module_version": "1.5.0",
            "_model_name": "HTMLModel",
            "_view_count": null,
            "_view_module": "@jupyter-widgets/controls",
            "_view_module_version": "1.5.0",
            "_view_name": "HTMLView",
            "description": "",
            "description_tooltip": null,
            "layout": "IPY_MODEL_d985195a57c24888b2d4d8c48026813b",
            "placeholder": "​",
            "style": "IPY_MODEL_03e29ff68eba4afc962a8d757ff26e2a",
            "value": "Generating outputs: 100%"
          }
        },
        "21a8e5f7b9e643b898f72880a879e7be": {
          "model_module": "@jupyter-widgets/controls",
          "model_name": "FloatProgressModel",
          "model_module_version": "1.5.0",
          "state": {
            "_dom_classes": [],
            "_model_module": "@jupyter-widgets/controls",
            "_model_module_version": "1.5.0",
            "_model_name": "FloatProgressModel",
            "_view_count": null,
            "_view_module": "@jupyter-widgets/controls",
            "_view_module_version": "1.5.0",
            "_view_name": "ProgressView",
            "bar_style": "success",
            "description": "",
            "description_tooltip": null,
            "layout": "IPY_MODEL_1ab1a7a2a8d946f4ad47c0e0d99c7cdc",
            "max": 39,
            "min": 0,
            "orientation": "horizontal",
            "style": "IPY_MODEL_a104edf2328a44f9a4905975cb8e53d7",
            "value": 39
          }
        },
        "58833c269f0242ebb7f0a0dd04f04c9b": {
          "model_module": "@jupyter-widgets/controls",
          "model_name": "HTMLModel",
          "model_module_version": "1.5.0",
          "state": {
            "_dom_classes": [],
            "_model_module": "@jupyter-widgets/controls",
            "_model_module_version": "1.5.0",
            "_model_name": "HTMLModel",
            "_view_count": null,
            "_view_module": "@jupyter-widgets/controls",
            "_view_module_version": "1.5.0",
            "_view_name": "HTMLView",
            "description": "",
            "description_tooltip": null,
            "layout": "IPY_MODEL_643a9ee8ced44625bfd05d86ae578c49",
            "placeholder": "​",
            "style": "IPY_MODEL_f8c5ebf663fd498b9ac726e9fc6720ec",
            "value": " 39/39 [00:08&lt;00:00,  5.05it/s]"
          }
        },
        "ced01f908b834e7980b9fe8f1345223d": {
          "model_module": "@jupyter-widgets/base",
          "model_name": "LayoutModel",
          "model_module_version": "1.2.0",
          "state": {
            "_model_module": "@jupyter-widgets/base",
            "_model_module_version": "1.2.0",
            "_model_name": "LayoutModel",
            "_view_count": null,
            "_view_module": "@jupyter-widgets/base",
            "_view_module_version": "1.2.0",
            "_view_name": "LayoutView",
            "align_content": null,
            "align_items": null,
            "align_self": null,
            "border": null,
            "bottom": null,
            "display": null,
            "flex": null,
            "flex_flow": null,
            "grid_area": null,
            "grid_auto_columns": null,
            "grid_auto_flow": null,
            "grid_auto_rows": null,
            "grid_column": null,
            "grid_gap": null,
            "grid_row": null,
            "grid_template_areas": null,
            "grid_template_columns": null,
            "grid_template_rows": null,
            "height": null,
            "justify_content": null,
            "justify_items": null,
            "left": null,
            "margin": null,
            "max_height": null,
            "max_width": null,
            "min_height": null,
            "min_width": null,
            "object_fit": null,
            "object_position": null,
            "order": null,
            "overflow": null,
            "overflow_x": null,
            "overflow_y": null,
            "padding": null,
            "right": null,
            "top": null,
            "visibility": null,
            "width": null
          }
        },
        "d985195a57c24888b2d4d8c48026813b": {
          "model_module": "@jupyter-widgets/base",
          "model_name": "LayoutModel",
          "model_module_version": "1.2.0",
          "state": {
            "_model_module": "@jupyter-widgets/base",
            "_model_module_version": "1.2.0",
            "_model_name": "LayoutModel",
            "_view_count": null,
            "_view_module": "@jupyter-widgets/base",
            "_view_module_version": "1.2.0",
            "_view_name": "LayoutView",
            "align_content": null,
            "align_items": null,
            "align_self": null,
            "border": null,
            "bottom": null,
            "display": null,
            "flex": null,
            "flex_flow": null,
            "grid_area": null,
            "grid_auto_columns": null,
            "grid_auto_flow": null,
            "grid_auto_rows": null,
            "grid_column": null,
            "grid_gap": null,
            "grid_row": null,
            "grid_template_areas": null,
            "grid_template_columns": null,
            "grid_template_rows": null,
            "height": null,
            "justify_content": null,
            "justify_items": null,
            "left": null,
            "margin": null,
            "max_height": null,
            "max_width": null,
            "min_height": null,
            "min_width": null,
            "object_fit": null,
            "object_position": null,
            "order": null,
            "overflow": null,
            "overflow_x": null,
            "overflow_y": null,
            "padding": null,
            "right": null,
            "top": null,
            "visibility": null,
            "width": null
          }
        },
        "03e29ff68eba4afc962a8d757ff26e2a": {
          "model_module": "@jupyter-widgets/controls",
          "model_name": "DescriptionStyleModel",
          "model_module_version": "1.5.0",
          "state": {
            "_model_module": "@jupyter-widgets/controls",
            "_model_module_version": "1.5.0",
            "_model_name": "DescriptionStyleModel",
            "_view_count": null,
            "_view_module": "@jupyter-widgets/base",
            "_view_module_version": "1.2.0",
            "_view_name": "StyleView",
            "description_width": ""
          }
        },
        "1ab1a7a2a8d946f4ad47c0e0d99c7cdc": {
          "model_module": "@jupyter-widgets/base",
          "model_name": "LayoutModel",
          "model_module_version": "1.2.0",
          "state": {
            "_model_module": "@jupyter-widgets/base",
            "_model_module_version": "1.2.0",
            "_model_name": "LayoutModel",
            "_view_count": null,
            "_view_module": "@jupyter-widgets/base",
            "_view_module_version": "1.2.0",
            "_view_name": "LayoutView",
            "align_content": null,
            "align_items": null,
            "align_self": null,
            "border": null,
            "bottom": null,
            "display": null,
            "flex": null,
            "flex_flow": null,
            "grid_area": null,
            "grid_auto_columns": null,
            "grid_auto_flow": null,
            "grid_auto_rows": null,
            "grid_column": null,
            "grid_gap": null,
            "grid_row": null,
            "grid_template_areas": null,
            "grid_template_columns": null,
            "grid_template_rows": null,
            "height": null,
            "justify_content": null,
            "justify_items": null,
            "left": null,
            "margin": null,
            "max_height": null,
            "max_width": null,
            "min_height": null,
            "min_width": null,
            "object_fit": null,
            "object_position": null,
            "order": null,
            "overflow": null,
            "overflow_x": null,
            "overflow_y": null,
            "padding": null,
            "right": null,
            "top": null,
            "visibility": null,
            "width": null
          }
        },
        "a104edf2328a44f9a4905975cb8e53d7": {
          "model_module": "@jupyter-widgets/controls",
          "model_name": "ProgressStyleModel",
          "model_module_version": "1.5.0",
          "state": {
            "_model_module": "@jupyter-widgets/controls",
            "_model_module_version": "1.5.0",
            "_model_name": "ProgressStyleModel",
            "_view_count": null,
            "_view_module": "@jupyter-widgets/base",
            "_view_module_version": "1.2.0",
            "_view_name": "StyleView",
            "bar_color": null,
            "description_width": ""
          }
        },
        "643a9ee8ced44625bfd05d86ae578c49": {
          "model_module": "@jupyter-widgets/base",
          "model_name": "LayoutModel",
          "model_module_version": "1.2.0",
          "state": {
            "_model_module": "@jupyter-widgets/base",
            "_model_module_version": "1.2.0",
            "_model_name": "LayoutModel",
            "_view_count": null,
            "_view_module": "@jupyter-widgets/base",
            "_view_module_version": "1.2.0",
            "_view_name": "LayoutView",
            "align_content": null,
            "align_items": null,
            "align_self": null,
            "border": null,
            "bottom": null,
            "display": null,
            "flex": null,
            "flex_flow": null,
            "grid_area": null,
            "grid_auto_columns": null,
            "grid_auto_flow": null,
            "grid_auto_rows": null,
            "grid_column": null,
            "grid_gap": null,
            "grid_row": null,
            "grid_template_areas": null,
            "grid_template_columns": null,
            "grid_template_rows": null,
            "height": null,
            "justify_content": null,
            "justify_items": null,
            "left": null,
            "margin": null,
            "max_height": null,
            "max_width": null,
            "min_height": null,
            "min_width": null,
            "object_fit": null,
            "object_position": null,
            "order": null,
            "overflow": null,
            "overflow_x": null,
            "overflow_y": null,
            "padding": null,
            "right": null,
            "top": null,
            "visibility": null,
            "width": null
          }
        },
        "f8c5ebf663fd498b9ac726e9fc6720ec": {
          "model_module": "@jupyter-widgets/controls",
          "model_name": "DescriptionStyleModel",
          "model_module_version": "1.5.0",
          "state": {
            "_model_module": "@jupyter-widgets/controls",
            "_model_module_version": "1.5.0",
            "_model_name": "DescriptionStyleModel",
            "_view_count": null,
            "_view_module": "@jupyter-widgets/base",
            "_view_module_version": "1.2.0",
            "_view_name": "StyleView",
            "description_width": ""
          }
        },
        "2a9085766db044d182670b29f24ddf97": {
          "model_module": "@jupyter-widgets/controls",
          "model_name": "HBoxModel",
          "model_module_version": "1.5.0",
          "state": {
            "_dom_classes": [],
            "_model_module": "@jupyter-widgets/controls",
            "_model_module_version": "1.5.0",
            "_model_name": "HBoxModel",
            "_view_count": null,
            "_view_module": "@jupyter-widgets/controls",
            "_view_module_version": "1.5.0",
            "_view_name": "HBoxView",
            "box_style": "",
            "children": [
              "IPY_MODEL_92deb534d26844ac941a7a6c215066ec",
              "IPY_MODEL_70a1e5ae758d4a5da91b79192e626b38",
              "IPY_MODEL_0f4ca1ee17ad4ee9a0555f82421f15d2"
            ],
            "layout": "IPY_MODEL_b085b92ba34b4772bebd7b23403a374d"
          }
        },
        "92deb534d26844ac941a7a6c215066ec": {
          "model_module": "@jupyter-widgets/controls",
          "model_name": "HTMLModel",
          "model_module_version": "1.5.0",
          "state": {
            "_dom_classes": [],
            "_model_module": "@jupyter-widgets/controls",
            "_model_module_version": "1.5.0",
            "_model_name": "HTMLModel",
            "_view_count": null,
            "_view_module": "@jupyter-widgets/controls",
            "_view_module_version": "1.5.0",
            "_view_name": "HTMLView",
            "description": "",
            "description_tooltip": null,
            "layout": "IPY_MODEL_0a536b0e4b844a09ad72bb48817798ca",
            "placeholder": "​",
            "style": "IPY_MODEL_0291419a1dcb4000a1ccaa8d9ee415b7",
            "value": "Decoding outputs: 100%"
          }
        },
        "70a1e5ae758d4a5da91b79192e626b38": {
          "model_module": "@jupyter-widgets/controls",
          "model_name": "FloatProgressModel",
          "model_module_version": "1.5.0",
          "state": {
            "_dom_classes": [],
            "_model_module": "@jupyter-widgets/controls",
            "_model_module_version": "1.5.0",
            "_model_name": "FloatProgressModel",
            "_view_count": null,
            "_view_module": "@jupyter-widgets/controls",
            "_view_module_version": "1.5.0",
            "_view_name": "ProgressView",
            "bar_style": "success",
            "description": "",
            "description_tooltip": null,
            "layout": "IPY_MODEL_6a5c66eee7544c76ab78adf02096367d",
            "max": 308,
            "min": 0,
            "orientation": "horizontal",
            "style": "IPY_MODEL_7787a0fb386440c9b9bb2d6dd5bf5ca5",
            "value": 308
          }
        },
        "0f4ca1ee17ad4ee9a0555f82421f15d2": {
          "model_module": "@jupyter-widgets/controls",
          "model_name": "HTMLModel",
          "model_module_version": "1.5.0",
          "state": {
            "_dom_classes": [],
            "_model_module": "@jupyter-widgets/controls",
            "_model_module_version": "1.5.0",
            "_model_name": "HTMLModel",
            "_view_count": null,
            "_view_module": "@jupyter-widgets/controls",
            "_view_module_version": "1.5.0",
            "_view_name": "HTMLView",
            "description": "",
            "description_tooltip": null,
            "layout": "IPY_MODEL_99f5e26ed4aa4094befde0253c79b70e",
            "placeholder": "​",
            "style": "IPY_MODEL_880699195ef740f48c890f40a7d44d30",
            "value": " 308/308 [00:03&lt;00:00,  3.63s/it]"
          }
        },
        "b085b92ba34b4772bebd7b23403a374d": {
          "model_module": "@jupyter-widgets/base",
          "model_name": "LayoutModel",
          "model_module_version": "1.2.0",
          "state": {
            "_model_module": "@jupyter-widgets/base",
            "_model_module_version": "1.2.0",
            "_model_name": "LayoutModel",
            "_view_count": null,
            "_view_module": "@jupyter-widgets/base",
            "_view_module_version": "1.2.0",
            "_view_name": "LayoutView",
            "align_content": null,
            "align_items": null,
            "align_self": null,
            "border": null,
            "bottom": null,
            "display": null,
            "flex": null,
            "flex_flow": null,
            "grid_area": null,
            "grid_auto_columns": null,
            "grid_auto_flow": null,
            "grid_auto_rows": null,
            "grid_column": null,
            "grid_gap": null,
            "grid_row": null,
            "grid_template_areas": null,
            "grid_template_columns": null,
            "grid_template_rows": null,
            "height": null,
            "justify_content": null,
            "justify_items": null,
            "left": null,
            "margin": null,
            "max_height": null,
            "max_width": null,
            "min_height": null,
            "min_width": null,
            "object_fit": null,
            "object_position": null,
            "order": null,
            "overflow": null,
            "overflow_x": null,
            "overflow_y": null,
            "padding": null,
            "right": null,
            "top": null,
            "visibility": null,
            "width": null
          }
        },
        "0a536b0e4b844a09ad72bb48817798ca": {
          "model_module": "@jupyter-widgets/base",
          "model_name": "LayoutModel",
          "model_module_version": "1.2.0",
          "state": {
            "_model_module": "@jupyter-widgets/base",
            "_model_module_version": "1.2.0",
            "_model_name": "LayoutModel",
            "_view_count": null,
            "_view_module": "@jupyter-widgets/base",
            "_view_module_version": "1.2.0",
            "_view_name": "LayoutView",
            "align_content": null,
            "align_items": null,
            "align_self": null,
            "border": null,
            "bottom": null,
            "display": null,
            "flex": null,
            "flex_flow": null,
            "grid_area": null,
            "grid_auto_columns": null,
            "grid_auto_flow": null,
            "grid_auto_rows": null,
            "grid_column": null,
            "grid_gap": null,
            "grid_row": null,
            "grid_template_areas": null,
            "grid_template_columns": null,
            "grid_template_rows": null,
            "height": null,
            "justify_content": null,
            "justify_items": null,
            "left": null,
            "margin": null,
            "max_height": null,
            "max_width": null,
            "min_height": null,
            "min_width": null,
            "object_fit": null,
            "object_position": null,
            "order": null,
            "overflow": null,
            "overflow_x": null,
            "overflow_y": null,
            "padding": null,
            "right": null,
            "top": null,
            "visibility": null,
            "width": null
          }
        },
        "0291419a1dcb4000a1ccaa8d9ee415b7": {
          "model_module": "@jupyter-widgets/controls",
          "model_name": "DescriptionStyleModel",
          "model_module_version": "1.5.0",
          "state": {
            "_model_module": "@jupyter-widgets/controls",
            "_model_module_version": "1.5.0",
            "_model_name": "DescriptionStyleModel",
            "_view_count": null,
            "_view_module": "@jupyter-widgets/base",
            "_view_module_version": "1.2.0",
            "_view_name": "StyleView",
            "description_width": ""
          }
        },
        "6a5c66eee7544c76ab78adf02096367d": {
          "model_module": "@jupyter-widgets/base",
          "model_name": "LayoutModel",
          "model_module_version": "1.2.0",
          "state": {
            "_model_module": "@jupyter-widgets/base",
            "_model_module_version": "1.2.0",
            "_model_name": "LayoutModel",
            "_view_count": null,
            "_view_module": "@jupyter-widgets/base",
            "_view_module_version": "1.2.0",
            "_view_name": "LayoutView",
            "align_content": null,
            "align_items": null,
            "align_self": null,
            "border": null,
            "bottom": null,
            "display": null,
            "flex": null,
            "flex_flow": null,
            "grid_area": null,
            "grid_auto_columns": null,
            "grid_auto_flow": null,
            "grid_auto_rows": null,
            "grid_column": null,
            "grid_gap": null,
            "grid_row": null,
            "grid_template_areas": null,
            "grid_template_columns": null,
            "grid_template_rows": null,
            "height": null,
            "justify_content": null,
            "justify_items": null,
            "left": null,
            "margin": null,
            "max_height": null,
            "max_width": null,
            "min_height": null,
            "min_width": null,
            "object_fit": null,
            "object_position": null,
            "order": null,
            "overflow": null,
            "overflow_x": null,
            "overflow_y": null,
            "padding": null,
            "right": null,
            "top": null,
            "visibility": null,
            "width": null
          }
        },
        "7787a0fb386440c9b9bb2d6dd5bf5ca5": {
          "model_module": "@jupyter-widgets/controls",
          "model_name": "ProgressStyleModel",
          "model_module_version": "1.5.0",
          "state": {
            "_model_module": "@jupyter-widgets/controls",
            "_model_module_version": "1.5.0",
            "_model_name": "ProgressStyleModel",
            "_view_count": null,
            "_view_module": "@jupyter-widgets/base",
            "_view_module_version": "1.2.0",
            "_view_name": "StyleView",
            "bar_color": null,
            "description_width": ""
          }
        },
        "99f5e26ed4aa4094befde0253c79b70e": {
          "model_module": "@jupyter-widgets/base",
          "model_name": "LayoutModel",
          "model_module_version": "1.2.0",
          "state": {
            "_model_module": "@jupyter-widgets/base",
            "_model_module_version": "1.2.0",
            "_model_name": "LayoutModel",
            "_view_count": null,
            "_view_module": "@jupyter-widgets/base",
            "_view_module_version": "1.2.0",
            "_view_name": "LayoutView",
            "align_content": null,
            "align_items": null,
            "align_self": null,
            "border": null,
            "bottom": null,
            "display": null,
            "flex": null,
            "flex_flow": null,
            "grid_area": null,
            "grid_auto_columns": null,
            "grid_auto_flow": null,
            "grid_auto_rows": null,
            "grid_column": null,
            "grid_gap": null,
            "grid_row": null,
            "grid_template_areas": null,
            "grid_template_columns": null,
            "grid_template_rows": null,
            "height": null,
            "justify_content": null,
            "justify_items": null,
            "left": null,
            "margin": null,
            "max_height": null,
            "max_width": null,
            "min_height": null,
            "min_width": null,
            "object_fit": null,
            "object_position": null,
            "order": null,
            "overflow": null,
            "overflow_x": null,
            "overflow_y": null,
            "padding": null,
            "right": null,
            "top": null,
            "visibility": null,
            "width": null
          }
        },
        "880699195ef740f48c890f40a7d44d30": {
          "model_module": "@jupyter-widgets/controls",
          "model_name": "DescriptionStyleModel",
          "model_module_version": "1.5.0",
          "state": {
            "_model_module": "@jupyter-widgets/controls",
            "_model_module_version": "1.5.0",
            "_model_name": "DescriptionStyleModel",
            "_view_count": null,
            "_view_module": "@jupyter-widgets/base",
            "_view_module_version": "1.2.0",
            "_view_name": "StyleView",
            "description_width": ""
          }
        }
      }
    }
  },
  "nbformat": 4,
  "nbformat_minor": 0
}